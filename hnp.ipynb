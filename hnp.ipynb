{
 "cells": [
  {
   "cell_type": "markdown",
   "metadata": {},
   "source": [
    "On cherche à retrouver $\\alpha$ avec un vecteur $t = (t_1, \\dots, t_n)$ et $u = (MSB(\\alpha\\times t_1) [p], \\dots, MSB(\\alpha \\times t_n) [p], 0)$"
   ]
  },
  {
   "cell_type": "code",
   "execution_count": 40,
   "metadata": {},
   "outputs": [
    {
     "name": "stdout",
     "output_type": "stream",
     "text": [
      "(553899512099064269852854315771753222477781221977, 448844663439697165016956692996932390050000725912, 122805252172082275070016083226934669251577492611, 688632852691379320335201044189066155271090970945, 326764112626937833883427766320212831550202600246, 326529265459124616273481866822909832675696264617, 734286288080086289041134638044203767972155144921, 344583573279860589003029411629648127676163600098, 450614127295665983455931403293860473566158325240, 88334156397508161794476202502770503332482258692, 76898517918954199746982766989707091419240647823, 193875926727922521267073264312621263577126998025, 710546605819518190797794231341276898530474937470, 210338613517421315315096198304205159908221263691, 234849598110829934274587602707864179446256414501, 530678439732526422777434408288815402854124816756, 98010670740922509713598703365893686264978652640, 692489302161819686489697398509299819955606228237, 531951440411603102362094785934445864578632076535, 556362502400014925452485674250321929985490375361, 277958512039356238883815187129605855038534046425, 74792955939297289662928406298963710233200178433, 547677148065500052879408263835605977289120905754, 489498873296863338387667303391574557218085834203, 542734841065620614656541255039910171087492081127, 605569146027302722734266144481495206352298066765, 620522125498390555037166595719342824342400000745, 176718537096610283794565669155694375554978700389, 630332561866254851624277913607872010347674932961, 587307996091818850327489708368037229254751948017, 0)\n"
     ]
    }
   ],
   "source": [
    "prime_size = 160\n",
    "p = random_prime(2^prime_size-1, lbound=2^(prime_size-1))\n",
    "F = GF(p)\n",
    "l = 10\n",
    "n = 30\n",
    "u = vector(ZZ,n+1)\n",
    "t = vector(ZZ,n)\n",
    "alpha = randint(0,p-1)\n",
    "mask = 0\n",
    "for i in xrange(l):\n",
    "    mask += 1<<i\n",
    "\n",
    "for i in xrange(n):\n",
    "    t[i] = randint(0,p-1)\n",
    "    ati = alpha*t[i]\n",
    "    lsb = ati&mask\n",
    "    u[i] = F(ati - lsb)\n",
    "    \n",
    "u[n] = 0\n",
    "\n",
    "print u"
   ]
  },
  {
   "cell_type": "code",
   "execution_count": 39,
   "metadata": {},
   "outputs": [
    {
     "name": "stdout",
     "output_type": "stream",
     "text": [
      "True 326828672275279293658895450402474576842669447101 326828672275279293658895450402474576842669447101\n"
     ]
    }
   ],
   "source": [
    "M = zero_matrix(QQ,n+1)\n",
    "for i in xrange(n):\n",
    "    M[i,i] = p\n",
    "    M[n,i] = t[i]\n",
    "M[n,n] = 1/(2^(l+1))\n",
    "\n",
    "def Babai_LLL(A, target):\n",
    "    B = A.LLL()\n",
    "    G = B.gram_schmidt()[0]\n",
    "    diff = target\n",
    "    for i in reversed(range(B.nrows())):\n",
    "        diff -=  B[i] * ((diff * G[i]) / (G[i] * G[i])).round()\n",
    "    return target - diff\n",
    "\n",
    "w = Babai_LLL(M,u) #using Babai to find nearest vector which should be (alpha*t1 mod p, ..., alpha*tn mod p, alpha/2^(l+1))\n",
    "res = F(w[-1]* 2^(l+1))\n",
    "print res == alpha, res, alpha"
   ]
  },
  {
   "cell_type": "code",
   "execution_count": null,
   "metadata": {},
   "outputs": [],
   "source": []
  }
 ],
 "metadata": {
  "kernelspec": {
   "display_name": "SageMath 8.8.beta4",
   "language": "",
   "name": "sagemath"
  },
  "language_info": {
   "codemirror_mode": {
    "name": "ipython",
    "version": 2
   },
   "file_extension": ".py",
   "mimetype": "text/x-python",
   "name": "python",
   "nbconvert_exporter": "python",
   "pygments_lexer": "ipython2",
   "version": "2.7.15"
  }
 },
 "nbformat": 4,
 "nbformat_minor": 2
}
