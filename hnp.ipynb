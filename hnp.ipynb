{
 "cells": [
  {
   "cell_type": "markdown",
   "metadata": {},
   "source": [
    "On cherche à retrouver $\\alpha$ avec un vecteur $t = (t_1, \\dots, t_n)$ et $u = (MSB(\\alpha\\times t_1) [p], \\dots, MSB(\\alpha \\times t_n) [p], 0)$"
   ]
  },
  {
   "cell_type": "code",
   "execution_count": 20,
   "metadata": {},
   "outputs": [
    {
     "name": "stdout",
     "output_type": "stream",
     "text": [
      "(834, 277, 776, 29, 799, 545, 390, 193, 84, 738, 931, 155, 866, 744, 54, 87, 190, 132, 0, 844, 547, 883, 747, 274, 289, 545, 15, 490, 171, 193, 0)\n"
     ]
    }
   ],
   "source": [
    "prime_size = 10\n",
    "p = random_prime(2^prime_size-1, lbound=2^(prime_size-1))\n",
    "F = GF(p)\n",
    "l = 3 #bits connus\n",
    "n = 30\n",
    "u = vector(ZZ,n+1)\n",
    "t = vector(ZZ,n)\n",
    "alpha = randint(0,p-1)\n",
    "mask = 0\n",
    "for i in xrange(prime_size - l):\n",
    "    mask += 1<<i\n",
    "\n",
    "for i in xrange(n):\n",
    "    t[i] = randint(0,p-1)\n",
    "    ati = alpha*t[i]\n",
    "    lsb = ati&mask\n",
    "    u[i] = F(ati - lsb)\n",
    "    \n",
    "u[n] = 0\n",
    "\n",
    "print u"
   ]
  },
  {
   "cell_type": "code",
   "execution_count": 21,
   "metadata": {},
   "outputs": [
    {
     "name": "stdout",
     "output_type": "stream",
     "text": [
      "True 489 489\n"
     ]
    }
   ],
   "source": [
    "M = zero_matrix(QQ,n+1)\n",
    "for i in xrange(n):\n",
    "    M[i,i] = p\n",
    "    M[n,i] = t[i]\n",
    "M[n,n] = 1/(2^(l+1))\n",
    "\n",
    "def Babai_LLL(A, target):\n",
    "    B = A.LLL()\n",
    "    G = B.gram_schmidt()[0]\n",
    "    diff = target\n",
    "    for i in reversed(range(B.nrows())):\n",
    "        diff -=  B[i] * ((diff * G[i]) / (G[i] * G[i])).round()\n",
    "    return target - diff\n",
    "\n",
    "w = Babai_LLL(M,u) #using Babai to find nearest vector which should be (alpha*t1 mod p, ..., alpha*tn mod p, alpha/2^(l+1))\n",
    "res = F(w[-1]* 2^(l+1))\n",
    "print res == alpha, res, alpha"
   ]
  },
  {
   "cell_type": "code",
   "execution_count": 23,
   "metadata": {},
   "outputs": [
    {
     "name": "stdout",
     "output_type": "stream",
     "text": [
      "[ 1293/16]\n",
      "[  -173/8]\n",
      "[  947/16]\n",
      "[11515/16]\n",
      "[ -4287/8]\n",
      "[-2919/16]\n",
      "[   999/8]\n",
      "[    -514]\n",
      "[  5937/8]\n",
      "[-6585/16]\n",
      "[ 2601/16]\n",
      "[-2573/16]\n",
      "[ -1539/8]\n",
      "[-9517/16]\n",
      "[-3999/16]\n",
      "[-7795/16]\n",
      "[  2193/4]\n",
      "[ 2761/16]\n",
      "[   869/4]\n",
      "[ 2995/16]\n",
      "[ 3583/16]\n",
      "[   313/4]\n",
      "[-3999/16]\n",
      "[-3637/16]\n",
      "[   707/8]\n",
      "[    -354]\n",
      "[  359/16]\n",
      "[  2465/8]\n",
      "[ 1089/16]\n",
      "[ 2519/16]\n",
      "[  359/16]\n",
      "[  -295/2]\n"
     ]
    }
   ],
   "source": [
    "M = zero_matrix(QQ,n+2)\n",
    "for i in xrange(n):\n",
    "    M[i,i] = p\n",
    "    M[n,i] = t[i]\n",
    "M[n,n] = 1/(2^(l+1))\n",
    "for i in xrange(n+1):\n",
    "    M[n+1,i] = u[i]\n",
    "M[n+1,n+1] = 1/(2^(l+1))\n",
    "ones = ones_matrix(QQ,n+2,1)\n",
    "print M.B() * ones"
   ]
  },
  {
   "cell_type": "code",
   "execution_count": null,
   "metadata": {},
   "outputs": [],
   "source": []
  },
  {
   "cell_type": "code",
   "execution_count": null,
   "metadata": {},
   "outputs": [],
   "source": []
  }
 ],
 "metadata": {
  "kernelspec": {
   "display_name": "SageMath 8.8.beta4",
   "language": "",
   "name": "sagemath"
  },
  "language_info": {
   "codemirror_mode": {
    "name": "ipython",
    "version": 2
   },
   "file_extension": ".py",
   "mimetype": "text/x-python",
   "name": "python",
   "nbconvert_exporter": "python",
   "pygments_lexer": "ipython2",
   "version": "2.7.15"
  }
 },
 "nbformat": 4,
 "nbformat_minor": 2
}
