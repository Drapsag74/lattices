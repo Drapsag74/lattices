{
 "cells": [
  {
   "cell_type": "markdown",
   "metadata": {},
   "source": [
    "On cherche à retrouver $\\alpha$ avec un vecteur $t = (t_1, \\dots, t_n)$ et $u = (MSB(\\alpha\\times t_1) [p], \\dots, MSB(\\alpha \\times t_n) [p], 0)$"
   ]
  },
  {
   "cell_type": "code",
   "execution_count": 41,
   "metadata": {},
   "outputs": [
    {
     "name": "stdout",
     "output_type": "stream",
     "text": [
      "(1257439906685463046956728285765010586968584804218, 1175679591741608203197785418372580677793627314044, 64190059553257038307365640975221272820635450129, 967261079613691757723586689825749915971790580891, 659144802313008672600919883770171139103969738785, 1384095888598540495923128293792830342702931330056, 811296481197634761146970447427510144111856749792, 761738835005099315493785056707349202860721931149, 1068360524683453238948876094657692778419696932111, 269727036982880816057223387000512842684349423556, 120943896284735511639681857199152298970870214850, 1284224428010657710643190015243743190875077455744, 252825274570672653517108447666469600366085606606, 36857194902574513644326298708736421813497194794, 1118667130674100085771108053816108081975898057792, 688055770226846753359691513243824244500787766807, 1333299469968127465875916847932186215832360055512, 1226684686841606418945171528469459472880498725822, 657543121180488667270115028310436485340098340278, 1168642454238839064017210354287934870585806586241, 180210119685528203479945339175278722924969468676, 1277389020849195374140018915492068326697410196457, 172162131123922320657843431469982089506189956543, 1081730375386607206295207123110358004387746103339, 886180890195066555351850037639840606406628204026, 371134896993963087596157717179881860012872458092, 834906792390702498795776839527524105249322627013, 1370248238916522168353802483051719798512205196637, 128695017842455733114860832101739560338691357217, 321906340575604695300982186746063306603909268104, 0)\n"
     ]
    }
   ],
   "source": [
    "prime_size = 160\n",
    "p = random_prime(2^prime_size-1, lbound=2^(prime_size-1))\n",
    "F = GF(p)\n",
    "l = 10\n",
    "n = 30\n",
    "u = vector(ZZ,n+1)\n",
    "t = vector(ZZ,n)\n",
    "alpha = randint(0,p-1)\n",
    "mask = 0\n",
    "for i in xrange(prime_size - l):\n",
    "    mask += 1<<i\n",
    "\n",
    "for i in xrange(n):\n",
    "    t[i] = randint(0,p-1)\n",
    "    ati = alpha*t[i]\n",
    "    lsb = ati&mask\n",
    "    u[i] = F(ati - lsb)\n",
    "    \n",
    "u[n] = 0\n",
    "\n",
    "print u"
   ]
  },
  {
   "cell_type": "code",
   "execution_count": 42,
   "metadata": {},
   "outputs": [
    {
     "name": "stdout",
     "output_type": "stream",
     "text": [
      "True 1127076245579843253545890366967670427188208939650 1127076245579843253545890366967670427188208939650\n"
     ]
    }
   ],
   "source": [
    "M = zero_matrix(QQ,n+1)\n",
    "for i in xrange(n):\n",
    "    M[i,i] = p\n",
    "    M[n,i] = t[i]\n",
    "M[n,n] = 1/(2^(l+1))\n",
    "\n",
    "def Babai_LLL(A, target):\n",
    "    B = A.LLL()\n",
    "    G = B.gram_schmidt()[0]\n",
    "    diff = target\n",
    "    for i in reversed(range(B.nrows())):\n",
    "        diff -=  B[i] * ((diff * G[i]) / (G[i] * G[i])).round()\n",
    "    return target - diff\n",
    "\n",
    "w = Babai_LLL(M,u) #using Babai to find nearest vector which should be (alpha*t1 mod p, ..., alpha*tn mod p, alpha/2^(l+1))\n",
    "res = F(w[-1]* 2^(l+1))\n",
    "print res == alpha, res, alpha"
   ]
  },
  {
   "cell_type": "code",
   "execution_count": null,
   "metadata": {},
   "outputs": [],
   "source": []
  }
 ],
 "metadata": {
  "kernelspec": {
   "display_name": "SageMath 8.8.beta4",
   "language": "",
   "name": "sagemath"
  },
  "language_info": {
   "codemirror_mode": {
    "name": "ipython",
    "version": 2
   },
   "file_extension": ".py",
   "mimetype": "text/x-python",
   "name": "python",
   "nbconvert_exporter": "python",
   "pygments_lexer": "ipython2",
   "version": "2.7.15"
  }
 },
 "nbformat": 4,
 "nbformat_minor": 2
}
