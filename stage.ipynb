{
 "cells": [
  {
   "cell_type": "markdown",
   "metadata": {},
   "source": [
    "# Utilisation des réseaux euclidiens dans pour le décodage de code de dimension 1\n",
    "\n",
    "## Génération d'équations\n",
    "\n",
    "\n",
    "On va essayer de décoder des équations de la forme : \n",
    "\n",
    "\\begin{equation}\n",
    " y_i +C_ix + D_i \\equiv 0 [p]\n",
    "\\end{equation}\n",
    "    Que l'on peut reformuler en :\n",
    "\\begin{equation}\n",
    "y_i + A_i y_0 + B_i \\equiv 0 [p] , i = 1\\dots n\n",
    "\\end{equation}\n",
    "\n",
    "avec $y_0=x$ ou $y_0=y_h$\n",
    "\n",
    "On va d'abord générer les différents $y_i$"
   ]
  },
  {
   "cell_type": "code",
   "execution_count": 8,
   "metadata": {},
   "outputs": [
    {
     "data": {
      "text/plain": [
       "2"
      ]
     },
     "execution_count": 8,
     "metadata": {},
     "output_type": "execute_result"
    }
   ],
   "source": [
    "prime_size = 10\n",
    "h = 2\n",
    "y = []\n",
    "a = []\n",
    "b = []\n",
    "p = random_prime(2^prime_size-1, lbound=2^(prime_size-1))\n",
    "F = GF(p)\n",
    "x = F(randint(0,p-1))\n",
    "for i in range(h):\n",
    "    a.append(F(randint(0,p-1)))\n",
    "    b.append(F(randint(0,p-1)))\n",
    "    y.append(-a[i]*x - b[i])\n",
    "    \n",
    "len(y)"
   ]
  },
  {
   "cell_type": "markdown",
   "metadata": {},
   "source": [
    "On va maintenant générer $n = h$ équations, les equations s'écrivent de la forme $y_i + A_ix + B_i \\equiv 0 [p]$, c'est a dire si on connait certains bits $c_i$ : $(z_i + c_i) + A_ix + B_i \\equiv 0 [p]$"
   ]
  },
  {
   "cell_type": "code",
   "execution_count": 35,
   "metadata": {},
   "outputs": [
    {
     "name": "stdout",
     "output_type": "stream",
     "text": [
      "True\n",
      "True\n"
     ]
    }
   ],
   "source": [
    "v = vector(ZZ,h+1)\n",
    "v[0] = 0\n",
    "sample = []\n",
    "arranged_sample = []\n",
    "known_bytes = 10\n",
    "mask = 0\n",
    "for i in range(known_bytes):\n",
    "    mask += 1<<i\n",
    "z = vector(ZZ,h+1)\n",
    "z[0] = x\n",
    "\n",
    "for i in range(h):\n",
    "    j = i+1\n",
    "    sample.append(F(y[i].lift()+(a[i]*x).lift() + b[i].lift()))\n",
    "    ci = y[i].lift()&mask\n",
    "    zi = y[i].lift()-ci\n",
    "    z[j] = zi\n",
    "    v[j] = ci + b[i].lift()\n",
    "    arranged_sample.append(z[j] + a[i]*z[0] + v[j])\n",
    "    print(sample[i]==arranged_sample[i])\n",
    "    \n"
   ]
  },
  {
   "cell_type": "code",
   "execution_count": 36,
   "metadata": {},
   "outputs": [
    {
     "name": "stdout",
     "output_type": "stream",
     "text": [
      "[ -1 427 667]\n",
      "[  0 997   0]\n",
      "[  0   0 997]\n",
      "[427, 667]\n",
      "997\n"
     ]
    }
   ],
   "source": [
    "A = zero_matrix(ZZ,h+1)\n",
    "A[0,0] = -1\n",
    "for k in range(1,h+1):\n",
    "    A[0,k] = a[k-1]\n",
    "    A[k,k] = p\n",
    "\n",
    "def Babai_LLL(A, target):\n",
    "    B = A.LLL()\n",
    "    G = B.gram_schmidt()[0]\n",
    "    diff = target\n",
    "    for i in reversed(range(B.nrows())):\n",
    "        diff -=  B[i] * ((diff * G[i]) / (G[i] * G[i])).round()\n",
    "    return target - diff\n",
    "print(A.str()+ \"\\n\" + str(a) + \"\\n\" + str(p))"
   ]
  },
  {
   "cell_type": "code",
   "execution_count": 37,
   "metadata": {},
   "outputs": [
    {
     "name": "stdout",
     "output_type": "stream",
     "text": [
      "(-21, -19, -11) , (544, 0, 0),[717, 789]\n"
     ]
    }
   ],
   "source": [
    "w = Babai_LLL(A,v)\n",
    "print(str((w-v)) + \" , \" + str(z) + \",\" + str(y))"
   ]
  },
  {
   "cell_type": "code",
   "execution_count": 38,
   "metadata": {},
   "outputs": [
    {
     "name": "stdout",
     "output_type": "stream",
     "text": [
      "(-21, 991, 1046),(0, 1010, 1057)\n"
     ]
    }
   ],
   "source": [
    "print(str(w) + \",\" + str(v))"
   ]
  },
  {
   "cell_type": "code",
   "execution_count": 39,
   "metadata": {},
   "outputs": [
    {
     "data": {
      "text/plain": [
       "976"
      ]
     },
     "execution_count": 39,
     "metadata": {},
     "output_type": "execute_result"
    }
   ],
   "source": [
    "F(w[0]-v[0])"
   ]
  },
  {
   "cell_type": "code",
   "execution_count": 41,
   "metadata": {},
   "outputs": [
    {
     "data": {
      "text/plain": [
       "544"
      ]
     },
     "execution_count": 41,
     "metadata": {},
     "output_type": "execute_result"
    }
   ],
   "source": [
    "x"
   ]
  },
  {
   "cell_type": "code",
   "execution_count": null,
   "metadata": {},
   "outputs": [],
   "source": []
  }
 ],
 "metadata": {
  "kernelspec": {
   "display_name": "SageMath 8.8.beta4",
   "language": "",
   "name": "sagemath"
  },
  "language_info": {
   "codemirror_mode": {
    "name": "ipython",
    "version": 2
   },
   "file_extension": ".py",
   "mimetype": "text/x-python",
   "name": "python",
   "nbconvert_exporter": "python",
   "pygments_lexer": "ipython2",
   "version": "2.7.15"
  }
 },
 "nbformat": 4,
 "nbformat_minor": 2
}
