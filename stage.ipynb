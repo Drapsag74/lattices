{
 "cells": [
  {
   "cell_type": "markdown",
   "metadata": {},
   "source": [
    "# Utilisation des réseaux euclidiens dans pour le décodage de code de dimension 1\n",
    "\n",
    "## Génération d'équations\n",
    "\n",
    "\n",
    "On va essayer de décoder des équations de la forme : \n",
    "\n",
    "\\begin{equation}\n",
    " y_i +A_ix + B_i \\equiv 0 [p]\n",
    "\\end{equation}\n",
    "    Que l'on peut reformuler en :\n",
    "\\begin{equation}\n",
    "y_i + C_i y_0 + D_i \\equiv 0 [p] , i = 1\\dots h-1, \n",
    "\\end{equation}\n",
    "\n",
    "avec  $y_0=y_h$, $C_i = -A_iA_{h}^{-1}$ et $D_i = C_iB_h + B_i$\n",
    "\n",
    "On va d'abord générer les différents $y_i$"
   ]
  },
  {
   "cell_type": "code",
   "execution_count": 1,
   "metadata": {},
   "outputs": [
    {
     "name": "stdout",
     "output_type": "stream",
     "text": [
      "([848861882270818404268861930307693837097905694043], [954581756250552001308943020753177391651254927746])\n"
     ]
    }
   ],
   "source": [
    "prime_size = 160\n",
    "h = 2\n",
    "y = []\n",
    "a = []\n",
    "b = []\n",
    "C = []\n",
    "D = []\n",
    "p = random_prime(2^prime_size-1, lbound=2^(prime_size-1))\n",
    "F = GF(p)\n",
    "x = F(randint(0,p-1))\n",
    "for i in range(h):\n",
    "    a.append(F(randint(0,p-1)))\n",
    "    b.append(F(randint(0,p-1)))\n",
    "    y.append(-a[i]*x - b[i])\n",
    "\n",
    "for i in range(h-1):\n",
    "    C.append(-a[i]*a[h-1].inverse_of_unit())\n",
    "    D.append(C[i]*b[h-1] + b[i])\n",
    "print(C,D)"
   ]
  },
  {
   "cell_type": "markdown",
   "metadata": {},
   "source": [
    "On va maintenant générer $n = h-1$ équations, les equations s'écrivent de la forme $y_i + C_iy_0 + D_i \\equiv 0 [p]$, c'est a dire si on connait certains bits $c_i$ : $(z_i + c_i) + C_i(z_0 + c_0) + D_i \\equiv 0 [p] \\implies z_i + u_iz_0 + v_i \\equiv 0[p]$"
   ]
  },
  {
   "cell_type": "code",
   "execution_count": 2,
   "metadata": {},
   "outputs": [
    {
     "name": "stdout",
     "output_type": "stream",
     "text": [
      "True\n"
     ]
    }
   ],
   "source": [
    "v = vector(ZZ,h)\n",
    "v[0] = 0\n",
    "sample = []\n",
    "arranged_sample = []\n",
    "known_bytes = 90\n",
    "mask = 0\n",
    "for i in range(known_bytes):\n",
    "    mask += 1<<i\n",
    "\n",
    "c0 = y[h-1].lift()&mask\n",
    "z = vector(ZZ,h)\n",
    "z[0] = y[h-1]-c0\n",
    "\n",
    "for i in range(h-1):\n",
    "    j = i+1\n",
    "    sample.append(F(y[i].lift()+(C[i]*y[h-1]).lift() + D[i].lift()))\n",
    "    ci = y[i].lift()&mask\n",
    "    zi = y[i].lift()-ci\n",
    "    z[j] = zi\n",
    "    v[j] = ci + C[i]*c0 + D[i].lift()\n",
    "    arranged_sample.append(z[j] + C[i]*z[0] + v[j])\n",
    "    print(sample[i]==arranged_sample[i])\n",
    "    \n"
   ]
  },
  {
   "cell_type": "code",
   "execution_count": 3,
   "metadata": {},
   "outputs": [
    {
     "name": "stdout",
     "output_type": "stream",
     "text": [
      "[                                               -1  848861882270818404268861930307693837097905694043]\n",
      "[                                                0 1018641324410030440135673325761499047341034776531]\n",
      "[848861882270818404268861930307693837097905694043]\n",
      "1018641324410030440135673325761499047341034776531\n"
     ]
    }
   ],
   "source": [
    "A = zero_matrix(ZZ,h)\n",
    "A[0,0] = -1\n",
    "for k in range(1,h):\n",
    "    A[0,k] = C[k-1]\n",
    "    A[k,k] = p\n",
    "\n",
    "def Babai_LLL(A, target):\n",
    "    B = A.LLL()\n",
    "    G = B.gram_schmidt()[0]\n",
    "    diff = target\n",
    "    for i in reversed(range(B.nrows())):\n",
    "        diff -=  B[i] * ((diff * G[i]) / (G[i] * G[i])).round()\n",
    "    return target - diff\n",
    "print(A.str()+ \"\\n\" + str(C) + \"\\n\" + str(p))"
   ]
  },
  {
   "cell_type": "code",
   "execution_count": 4,
   "metadata": {},
   "outputs": [
    {
     "name": "stdout",
     "output_type": "stream",
     "text": [
      "(-337375831635767421675701, -61753168813170608287203) , (615938034227598145103997256652343535138603270144, 98857157380769030037454969716117729767757709312),[98857157380769030038537823230948779247353285382, 615938034227598145105143015139400489028516635219]\n"
     ]
    }
   ],
   "source": [
    "w = Babai_LLL(A,v)\n",
    "print(str((w-v)) + \" , \" + str(z) + \",\" + str(y))"
   ]
  },
  {
   "cell_type": "code",
   "execution_count": 5,
   "metadata": {},
   "outputs": [
    {
     "name": "stdout",
     "output_type": "stream",
     "text": [
      "(-337375831635767421675701, 332864443521160559068350698729113878879796287878),(0, 332864443521160559068350760482282692050404575081)\n"
     ]
    }
   ],
   "source": [
    "print(str(w) + \",\" + str(v))"
   ]
  },
  {
   "cell_type": "code",
   "execution_count": 6,
   "metadata": {},
   "outputs": [
    {
     "data": {
      "text/plain": [
       "False"
      ]
     },
     "execution_count": 6,
     "metadata": {},
     "output_type": "execute_result"
    }
   ],
   "source": [
    "F(w[1]-v[1]) == y[1]-(y[1].lift()&mask)"
   ]
  }
 ],
 "metadata": {
  "kernelspec": {
   "display_name": "SageMath 8.8.beta4",
   "language": "",
   "name": "sagemath"
  },
  "language_info": {
   "codemirror_mode": {
    "name": "ipython",
    "version": 2
   },
   "file_extension": ".py",
   "mimetype": "text/x-python",
   "name": "python",
   "nbconvert_exporter": "python",
   "pygments_lexer": "ipython2",
   "version": "2.7.15"
  }
 },
 "nbformat": 4,
 "nbformat_minor": 2
}
