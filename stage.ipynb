{
 "cells": [
  {
   "cell_type": "markdown",
   "metadata": {},
   "source": [
    "# Utilisation des réseaux euclidiens dans pour le décodage de code de dimension 1\n",
    "\n",
    "## Génération d'équations\n",
    "\n",
    "\n",
    "On va essayer de décoder des équations de la forme : \n",
    "\n",
    "\\begin{equation}\n",
    " y_i +C_ix + D_i \\equiv 0 [p]\n",
    "\\end{equation}\n",
    "    Que l'on peut reformuler en :\n",
    "\\begin{equation}\n",
    "y_i + A_i y_0 + B_i \\equiv 0 [p] , i = 1\\dots n\n",
    "\\end{equation}\n",
    "\n",
    "avec $y_0=x$ ou $y_0=y_h$\n",
    "\n",
    "On va d'abord générer les différents $y_i$"
   ]
  },
  {
   "cell_type": "code",
   "execution_count": 2,
   "metadata": {},
   "outputs": [
    {
     "data": {
      "text/plain": [
       "2"
      ]
     },
     "execution_count": 2,
     "metadata": {},
     "output_type": "execute_result"
    }
   ],
   "source": [
    "prime_size = 160\n",
    "h = 2\n",
    "y = []\n",
    "p = random_prime(2^prime_size-1, lbound=2^(prime_size-1))\n",
    "F = GF(p)\n",
    "for i in range(h):\n",
    "    y.append(F(randint(0,p-1)))\n",
    "    \n",
    "len(y)"
   ]
  },
  {
   "cell_type": "markdown",
   "metadata": {},
   "source": [
    "On va maintenant générer $h-1$ équations :"
   ]
  },
  {
   "cell_type": "code",
   "execution_count": 3,
   "metadata": {},
   "outputs": [
    {
     "name": "stdout",
     "output_type": "stream",
     "text": [
      "True\n"
     ]
    }
   ],
   "source": [
    "a = []\n",
    "b = []\n",
    "v = vector(ZZ,h)\n",
    "v[0] = 0\n",
    "sample = []\n",
    "arranged_sample = []\n",
    "known_bytes = 160\n",
    "mask = 0\n",
    "for i in range(known_bytes):\n",
    "    mask += 1<<i\n",
    "z = vector(ZZ,h)\n",
    "c0 = y[h-1].lift()&mask\n",
    "z[0] = y[h-1].lift()-c0\n",
    "\n",
    "for i in range(h-1):\n",
    "    j = i+1\n",
    "    a.append(F(randint(0,p-1)))\n",
    "    b.append(F(-(y[i]+a[i]*y[h-1])))\n",
    "    sample.append(y[i].lift()+(a[i]*y[h-1]).lift() + b[i].lift()) \n",
    "    ci = y[i].lift()&mask\n",
    "    zi = y[i].lift()-ci\n",
    "    z[j] = zi\n",
    "    v[j] = ci + a[i]*c0+b[i]\n",
    "    arranged_sample.append(z[j] + a[i]*z[0]+ v[j])\n",
    "    print(sample[i]==arranged_sample[i])"
   ]
  },
  {
   "cell_type": "code",
   "execution_count": 4,
   "metadata": {},
   "outputs": [
    {
     "name": "stdout",
     "output_type": "stream",
     "text": [
      "[                                              -1 412653007807629137806006525389276667250529272194]\n",
      "[                                               0 901617521109299542381301077865357135693349829103]\n",
      "[412653007807629137806006525389276667250529272194]\n",
      "901617521109299542381301077865357135693349829103\n"
     ]
    }
   ],
   "source": [
    "A = zero_matrix(ZZ,h)\n",
    "A[0,0] = -1\n",
    "for k in range(1,h):\n",
    "    A[0,k] = a[k-1]\n",
    "    A[k,k] = p\n",
    "\n",
    "def Babai_LLL(A, target):\n",
    "    B = A.LLL()\n",
    "    G = B.gram_schmidt()[0]\n",
    "    diff = target\n",
    "    for i in reversed(range(B.nrows())):\n",
    "        diff -=  B[i] * ((diff * G[i]) / (G[i] * G[i])).round()\n",
    "    return target - diff\n",
    "print(A.str()+ \"\\n\" + str(a) + \"\\n\" + str(p))"
   ]
  },
  {
   "cell_type": "code",
   "execution_count": 5,
   "metadata": {},
   "outputs": [
    {
     "name": "stdout",
     "output_type": "stream",
     "text": [
      "(0, 0) , (0, 0),[409440745122097032809139815645505058958313728341, 22492187799397341182829709622749166551868515476]\n"
     ]
    }
   ],
   "source": [
    "w = Babai_LLL(A,v)\n",
    "print(str((w-v)) + \" , \" + str(z) + \",\" + str(y))"
   ]
  },
  {
   "cell_type": "code",
   "execution_count": 6,
   "metadata": {},
   "outputs": [
    {
     "name": "stdout",
     "output_type": "stream",
     "text": [
      "(0, 0),(0, 0)\n"
     ]
    }
   ],
   "source": [
    "print(str(w) + \",\" + str(v))"
   ]
  },
  {
   "cell_type": "code",
   "execution_count": 314,
   "metadata": {},
   "outputs": [
    {
     "data": {
      "text/plain": [
       "(0, 587)"
      ]
     },
     "execution_count": 314,
     "metadata": {},
     "output_type": "execute_result"
    }
   ],
   "source": [
    "z+v"
   ]
  },
  {
   "cell_type": "code",
   "execution_count": null,
   "metadata": {},
   "outputs": [],
   "source": []
  }
 ],
 "metadata": {
  "kernelspec": {
   "display_name": "SageMath 8.8.beta4",
   "language": "",
   "name": "sagemath"
  },
  "language_info": {
   "codemirror_mode": {
    "name": "ipython",
    "version": 2
   },
   "file_extension": ".py",
   "mimetype": "text/x-python",
   "name": "python",
   "nbconvert_exporter": "python",
   "pygments_lexer": "ipython2",
   "version": "2.7.15"
  }
 },
 "nbformat": 4,
 "nbformat_minor": 2
}
